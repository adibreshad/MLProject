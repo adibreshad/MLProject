{
 "cells": [
  {
   "cell_type": "markdown",
   "id": "b3d40a78",
   "metadata": {},
   "source": [
    "1. Intro to functions\n",
    "2. Defining a function\n",
    "3. Calling a function\n",
    "4. Function parameters\n",
    "5. Default parameters\n",
    "6. Variable-length arguments\n",
    "7. Keyword arguments"
   ]
  },
  {
   "cell_type": "markdown",
   "id": "c3353c8b",
   "metadata": {},
   "source": [
    "1. Introduction to Functions\n"
   ]
  },
  {
   "cell_type": "markdown",
   "id": "27f3b7e7",
   "metadata": {},
   "source": [
    "Definition:\n",
    "A function is a block of code that performs a specfic task. Functions helps in organising code, reusing code, and improving readability."
   ]
  },
  {
   "cell_type": "code",
   "execution_count": null,
   "id": "7679ab9d",
   "metadata": {},
   "outputs": [],
   "source": [
    "## syntax:\n",
    "def function_name(parameters):\n",
    "    \"\"\"Docstring\"\"\"\n",
    "    # function body\n",
    "    return expression\n"
   ]
  },
  {
   "cell_type": "code",
   "execution_count": 2,
   "id": "5c333ec1",
   "metadata": {},
   "outputs": [
    {
     "name": "stdout",
     "output_type": "stream",
     "text": [
      "the number is even\n"
     ]
    }
   ],
   "source": [
    "#why functions?\n",
    "num=24\n",
    "if num%2==0:\n",
    "    print(\"the number is even\")\n",
    "else:\n",
    "    print(\"the number is odd\")\n",
    "    \n"
   ]
  },
  {
   "cell_type": "code",
   "execution_count": 3,
   "id": "acccb081",
   "metadata": {},
   "outputs": [],
   "source": [
    "def even_or_odd(num):\n",
    "    \"\"\"This function finds even or odd\"\"\"\n",
    "    if num % 2==0:\n",
    "        print(\"the number is even\")\n",
    "    else:\n",
    "        print(\"the number is odd\")\n",
    "    "
   ]
  },
  {
   "cell_type": "code",
   "execution_count": 5,
   "id": "aac26a6c",
   "metadata": {},
   "outputs": [
    {
     "name": "stdout",
     "output_type": "stream",
     "text": [
      "the number is odd\n"
     ]
    }
   ],
   "source": [
    "## call this function\n",
    "even_or_odd(11)"
   ]
  },
  {
   "cell_type": "code",
   "execution_count": 6,
   "id": "a11d5e99",
   "metadata": {},
   "outputs": [
    {
     "name": "stdout",
     "output_type": "stream",
     "text": [
      "30\n"
     ]
    }
   ],
   "source": [
    "## function with multiple parameters\n",
    "\n",
    "def add(a,b):\n",
    "    return a + b\n",
    "\n",
    "result = add(10, 20)\n",
    "print(result)"
   ]
  },
  {
   "cell_type": "code",
   "execution_count": 9,
   "id": "395a3090",
   "metadata": {},
   "outputs": [
    {
     "name": "stdout",
     "output_type": "stream",
     "text": [
      "hello AJ Welcome to the world of functions\n"
     ]
    }
   ],
   "source": [
    "## defualt parameters\n",
    "def greet(name):\n",
    "    print(f\"hello {name} Welcome to the world of functions\")\n",
    "\n",
    "\n",
    "greet(\"AJ\")"
   ]
  },
  {
   "cell_type": "code",
   "execution_count": 10,
   "id": "dae9df27",
   "metadata": {},
   "outputs": [],
   "source": [
    "## variable length arguments\n",
    "\n",
    "## positional and keyword arguments\n",
    "\n",
    "def print_numbers(*args):\n",
    "    for number in args:\n",
    "        print(number)\n"
   ]
  },
  {
   "cell_type": "code",
   "execution_count": 11,
   "id": "701046c0",
   "metadata": {},
   "outputs": [
    {
     "name": "stdout",
     "output_type": "stream",
     "text": [
      "1\n",
      "2\n",
      "3\n",
      "4\n",
      "5\n",
      "args\n"
     ]
    }
   ],
   "source": [
    "print_numbers(1, 2, 3, 4, 5, \"args\")"
   ]
  },
  {
   "cell_type": "code",
   "execution_count": 13,
   "id": "cdf06860",
   "metadata": {},
   "outputs": [],
   "source": [
    "## keyword arguments\n",
    "\n",
    "def print_detials(**kwargs):\n",
    "    for key, value in kwargs.items():\n",
    "        print(f\"{key}: {value}\")"
   ]
  },
  {
   "cell_type": "code",
   "execution_count": 14,
   "id": "f7f3bad7",
   "metadata": {},
   "outputs": [
    {
     "name": "stdout",
     "output_type": "stream",
     "text": [
      "name: Akuce\n",
      "age: 32\n",
      "country: India\n"
     ]
    }
   ],
   "source": [
    "print_detials(name=\"Akuce\", age=\"32\", country=\"India\")\n"
   ]
  },
  {
   "cell_type": "code",
   "execution_count": 15,
   "id": "9f69570d",
   "metadata": {},
   "outputs": [],
   "source": [
    "\n",
    "\n",
    "def print_detials(*args ,**kwargs):\n",
    "    for val in args:\n",
    "        print(f\"Postional argument: {val}\")\n",
    "    for key, value in kwargs.items():\n",
    "        print(f\"{key}: {value}\")"
   ]
  },
  {
   "cell_type": "code",
   "execution_count": 16,
   "id": "82e7941a",
   "metadata": {},
   "outputs": [
    {
     "name": "stdout",
     "output_type": "stream",
     "text": [
      "Postional argument: 1\n",
      "Postional argument: 2\n",
      "Postional argument: 3\n",
      "name: Lokesh\n",
      "age: 32\n",
      "country: India\n"
     ]
    }
   ],
   "source": [
    "print_detials(1,2,3, name=\"Lokesh\", age=\"32\", country=\"India\",  )"
   ]
  },
  {
   "cell_type": "code",
   "execution_count": 20,
   "id": "167c4204",
   "metadata": {},
   "outputs": [
    {
     "data": {
      "text/plain": [
       "(6, 2)"
      ]
     },
     "execution_count": 20,
     "metadata": {},
     "output_type": "execute_result"
    }
   ],
   "source": [
    "## return statements\n",
    "def multiply(a,b):\n",
    "    return a*b,a\n",
    "\n",
    "multiply(2,3)"
   ]
  },
  {
   "cell_type": "markdown",
   "id": "4839cfd1",
   "metadata": {},
   "source": [
    "Functions Examples"
   ]
  },
  {
   "cell_type": "markdown",
   "id": "e847c4b4",
   "metadata": {},
   "source": [
    "1. Tempreature conversion\n"
   ]
  },
  {
   "cell_type": "code",
   "execution_count": 22,
   "id": "edf6fd4e",
   "metadata": {},
   "outputs": [
    {
     "name": "stdout",
     "output_type": "stream",
     "text": [
      "77.0\n",
      "23.88888888888889\n"
     ]
    }
   ],
   "source": [
    "def convert_tempreature(temp, unit):\n",
    "    \"\"\"This functon converts tempreature from celsius to frehrenheit and vice versa\n",
    "    \"\"\"\n",
    "    if unit==\"C\":\n",
    "        return temp * 9/5 +32 ##celsius to fahrenheit\n",
    "    elif unit==\"F\":\n",
    "        return (temp - 32) * 5/9 ##fahrenheit to celsius\n",
    "    else:\n",
    "        return None\n",
    "    \n",
    "print(convert_tempreature(25,'C'))\n",
    "print(convert_tempreature(75,'F'))"
   ]
  },
  {
   "cell_type": "markdown",
   "id": "0f126fbb",
   "metadata": {},
   "source": [
    "2. Password Strength checker"
   ]
  },
  {
   "cell_type": "code",
   "execution_count": 23,
   "id": "394c121a",
   "metadata": {},
   "outputs": [
    {
     "name": "stdout",
     "output_type": "stream",
     "text": [
      "True\n",
      "False\n"
     ]
    }
   ],
   "source": [
    "def is_strong_password(password):\n",
    "    \"\"\"This function checks if the password is strong\"\"\"\n",
    "    if len(password) <8:\n",
    "        return False\n",
    "    if not any(char.isdigit() for char in password ):\n",
    "        return False\n",
    "    if not any(char.islower() for char in password):\n",
    "        return False\n",
    "    if not any(char.isupper() for char in password):\n",
    "        return False\n",
    "    if not any(char in \"!@#$%^&*()-_=+[]{}|;\" for char in password):\n",
    "        return False\n",
    "    return True\n",
    "\n",
    "## calling the function\n",
    "print(is_strong_password(\"Password123!\"))  # True\n",
    "print(is_strong_password(\"weakpass\"))       # False\n"
   ]
  },
  {
   "cell_type": "markdown",
   "id": "0357d4bb",
   "metadata": {},
   "source": [
    "## example 3: calculate the total cost of items in a shopping cart"
   ]
  },
  {
   "cell_type": "code",
   "execution_count": 24,
   "id": "492bb979",
   "metadata": {},
   "outputs": [
    {
     "name": "stdout",
     "output_type": "stream",
     "text": [
      "Total cost of the cart is: $5.40\n"
     ]
    }
   ],
   "source": [
    "def calculate_total_cost(cart):\n",
    "    total_cost=0\n",
    "    for item in cart:\n",
    "        total_cost += item['price']*item['quantity']\n",
    "    return total_cost\n",
    "\n",
    "## example of cart data\n",
    "\n",
    "cart =[\n",
    "    {'name':'Apple', 'price':0.5, 'quantity':3},\n",
    "    {'name': 'Banana', 'price': 0.3, 'quantity': 5},\n",
    "    {'name': 'Orange', 'price': 0.8, 'quantity':3}\n",
    "]\n",
    "\n",
    "## calling the function\n",
    "total_cost = calculate_total_cost(cart)\n",
    "print(f\"Total cost of the cart is: ${total_cost:.2f}\")"
   ]
  },
  {
   "cell_type": "markdown",
   "id": "359503a5",
   "metadata": {},
   "source": [
    "## example 4: check if a string is Palindrome"
   ]
  },
  {
   "cell_type": "code",
   "execution_count": 25,
   "id": "5c49e2b1",
   "metadata": {},
   "outputs": [
    {
     "name": "stdout",
     "output_type": "stream",
     "text": [
      "True\n",
      "False\n"
     ]
    }
   ],
   "source": [
    "def is_palindrome(s):\n",
    "    s=s.lower().replace(\" \", \"\")\n",
    "    return s == s[::-1]\n",
    "\n",
    "\n",
    "print(is_palindrome(\"A man a plan a canal Panama\"))  # True\n",
    "print(is_palindrome(\"Hello\"))  # False"
   ]
  },
  {
   "cell_type": "markdown",
   "id": "26663e5c",
   "metadata": {},
   "source": [
    "## calcluate the factorial of a number using recursion\n"
   ]
  },
  {
   "cell_type": "code",
   "execution_count": 26,
   "id": "932b541e",
   "metadata": {},
   "outputs": [
    {
     "name": "stdout",
     "output_type": "stream",
     "text": [
      "120\n"
     ]
    }
   ],
   "source": [
    "def factorial(n):\n",
    "    if n==0:\n",
    "        return 1\n",
    "    else:\n",
    "        return n* factorial(n-1)\n",
    "    \n",
    "print(factorial(5))"
   ]
  },
  {
   "cell_type": "markdown",
   "id": "0ebcb159",
   "metadata": {},
   "source": [
    "### function to read a file and count the frequency of each word"
   ]
  },
  {
   "cell_type": "code",
   "execution_count": 28,
   "id": "09182e39",
   "metadata": {},
   "outputs": [
    {
     "name": "stdout",
     "output_type": "stream",
     "text": [
      "{'hi': 1, 'this': 1, 'is': 1, 'my': 1, 'word': 1, 'count': 1, 'function': 1, 'which': 1, 'i': 1, 'am': 1, 'dont': 1, 'know': 1, 'how': 1, \"it'll\": 1, 'work': 1}\n"
     ]
    }
   ],
   "source": [
    "def count_word_frequency(text_path):\n",
    "    word_count={}\n",
    "    with open(text_path, 'r') as file:\n",
    "        for line in file:\n",
    "            words = line.split()\n",
    "            for word in words:\n",
    "                word= word.lower().strip('.,!?\";:')\n",
    "                word_count[word]=word_count.get(word, 0)+1\n",
    "    return word_count\n",
    "\n",
    "file_path = 'sample.txt'  # Replace with your file path\n",
    "word_frequency =count_word_frequency(file_path)\n",
    "print(word_frequency)\n"
   ]
  },
  {
   "cell_type": "markdown",
   "id": "e26d0fea",
   "metadata": {},
   "source": [
    "#### validate email address"
   ]
  },
  {
   "cell_type": "code",
   "execution_count": 30,
   "id": "7dc3175f",
   "metadata": {},
   "outputs": [
    {
     "name": "stdout",
     "output_type": "stream",
     "text": [
      "True\n",
      "False\n"
     ]
    }
   ],
   "source": [
    "import re\n",
    "\n",
    "## email validation function\n",
    "def is_valid_email(email):\n",
    "    pattern=r'^[a-zA-Z0-9._%+-]+@[a-zA-Z0-9.-]+\\.[a-zA-Z]{2,}$'\n",
    "    return re.match(pattern, email) is not None\n",
    "\n",
    "## calling the function\n",
    "\n",
    "print(is_valid_email(\"test@example.com\"))\n",
    "print(is_valid_email(\"invalid-email.com\"))  # False"
   ]
  },
  {
   "cell_type": "markdown",
   "id": "4396aa00",
   "metadata": {},
   "source": [
    "#### Lambda Functions in python "
   ]
  },
  {
   "cell_type": "code",
   "execution_count": 32,
   "id": "d4213e90",
   "metadata": {},
   "outputs": [
    {
     "data": {
      "text/plain": [
       "<function __main__.<lambda>(arguments)>"
      ]
     },
     "execution_count": 32,
     "metadata": {},
     "output_type": "execute_result"
    }
   ],
   "source": [
    "## syntax \n",
    "lambda arguments: expression\n"
   ]
  },
  {
   "cell_type": "code",
   "execution_count": 33,
   "id": "c0d1f56b",
   "metadata": {},
   "outputs": [],
   "source": [
    "def addition(a,b):\n",
    "    return a+b"
   ]
  },
  {
   "cell_type": "code",
   "execution_count": 34,
   "id": "91820d3e",
   "metadata": {},
   "outputs": [
    {
     "data": {
      "text/plain": [
       "5"
      ]
     },
     "execution_count": 34,
     "metadata": {},
     "output_type": "execute_result"
    }
   ],
   "source": [
    "addition(2,3)"
   ]
  },
  {
   "cell_type": "code",
   "execution_count": 36,
   "id": "f89f8489",
   "metadata": {},
   "outputs": [
    {
     "name": "stdout",
     "output_type": "stream",
     "text": [
      "5\n"
     ]
    }
   ],
   "source": [
    "add= lambda a,b: a+b\n",
    "type(add)\n",
    "print(add(2, 3))  # Output: 5"
   ]
  },
  {
   "cell_type": "code",
   "execution_count": 37,
   "id": "18f94ee8",
   "metadata": {},
   "outputs": [
    {
     "data": {
      "text/plain": [
       "True"
      ]
     },
     "execution_count": 37,
     "metadata": {},
     "output_type": "execute_result"
    }
   ],
   "source": [
    "def even(num):\n",
    "    if num % 2==0:\n",
    "        return True\n",
    "even(24)"
   ]
  },
  {
   "cell_type": "code",
   "execution_count": 38,
   "id": "c1c178d8",
   "metadata": {},
   "outputs": [
    {
     "data": {
      "text/plain": [
       "True"
      ]
     },
     "execution_count": 38,
     "metadata": {},
     "output_type": "execute_result"
    }
   ],
   "source": [
    "even1= lambda num:num %2 ==0\n",
    "even1(24)"
   ]
  },
  {
   "cell_type": "code",
   "execution_count": 39,
   "id": "9ccad477",
   "metadata": {},
   "outputs": [
    {
     "data": {
      "text/plain": [
       "39"
      ]
     },
     "execution_count": 39,
     "metadata": {},
     "output_type": "execute_result"
    }
   ],
   "source": [
    "def addition(x, y, z):\n",
    "    return x + y + z\n",
    "addition(12, 13, 14)"
   ]
  },
  {
   "cell_type": "code",
   "execution_count": 40,
   "id": "3f90c242",
   "metadata": {},
   "outputs": [
    {
     "data": {
      "text/plain": [
       "39"
      ]
     },
     "execution_count": 40,
     "metadata": {},
     "output_type": "execute_result"
    }
   ],
   "source": [
    "addition1= lambda x,y,z: x+y+z\n",
    "addition1(12, 13, 14)"
   ]
  },
  {
   "cell_type": "code",
   "execution_count": 41,
   "id": "ac133297",
   "metadata": {},
   "outputs": [
    {
     "data": {
      "text/plain": [
       "4"
      ]
     },
     "execution_count": 41,
     "metadata": {},
     "output_type": "execute_result"
    }
   ],
   "source": [
    "## map()\n",
    "numbers =[1,2,3,4,5]\n",
    "def square(num):\n",
    "    return num ** 2\n",
    "\n",
    "square(2)"
   ]
  },
  {
   "cell_type": "code",
   "execution_count": 43,
   "id": "a79c9199",
   "metadata": {},
   "outputs": [
    {
     "data": {
      "text/plain": [
       "[1, 4, 9, 16, 25]"
      ]
     },
     "execution_count": 43,
     "metadata": {},
     "output_type": "execute_result"
    }
   ],
   "source": [
    "list(map(lambda x:x **2, numbers ))"
   ]
  },
  {
   "cell_type": "markdown",
   "id": "9ef7818d",
   "metadata": {},
   "source": [
    "Map() function:\n",
    "the  map() function applies a given function to all items in an input list (or any other iterable) and returns a map object (an iterator ). this is particulary usefull for transforming data in a list comprehensively"
   ]
  },
  {
   "cell_type": "code",
   "execution_count": 44,
   "id": "79fb9115",
   "metadata": {},
   "outputs": [
    {
     "data": {
      "text/plain": [
       "100"
      ]
     },
     "execution_count": 44,
     "metadata": {},
     "output_type": "execute_result"
    }
   ],
   "source": [
    "def square(x):\n",
    "    return x*x\n",
    "\n",
    "square(10)"
   ]
  },
  {
   "cell_type": "code",
   "execution_count": 50,
   "id": "fab62c64",
   "metadata": {},
   "outputs": [
    {
     "data": {
      "text/plain": [
       "[1, 4, 9, 16, 25, 36, 49]"
      ]
     },
     "execution_count": 50,
     "metadata": {},
     "output_type": "execute_result"
    }
   ],
   "source": [
    "numbers=[1,2,3,4,5,6,7]\n",
    "list(map(square, numbers))"
   ]
  },
  {
   "cell_type": "code",
   "execution_count": null,
   "id": "f0b2ca5d",
   "metadata": {
    "vscode": {
     "languageId": "markdown"
    }
   },
   "outputs": [
    {
     "data": {
      "text/plain": [
       "[1, 4, 9, 16, 25, 36, 49]"
      ]
     },
     "execution_count": 49,
     "metadata": {},
     "output_type": "execute_result"
    }
   ],
   "source": []
  },
  {
   "cell_type": "code",
   "execution_count": 51,
   "id": "82a47100",
   "metadata": {},
   "outputs": [
    {
     "data": {
      "text/plain": [
       "[1, 4, 9, 16, 25, 36, 49, 64]"
      ]
     },
     "execution_count": 51,
     "metadata": {},
     "output_type": "execute_result"
    }
   ],
   "source": [
    "## lamda function with map\n",
    "numbers=[1,2,3,4,5,6,7,8]\n",
    "list(map(lambda x:x*x, numbers))"
   ]
  },
  {
   "cell_type": "code",
   "execution_count": 52,
   "id": "0f6fa8fb",
   "metadata": {},
   "outputs": [
    {
     "name": "stdout",
     "output_type": "stream",
     "text": [
      "[5, 7, 9]\n"
     ]
    }
   ],
   "source": [
    "## map multiple iterables\n",
    "numbers1= [1,2,3]\n",
    "numbers2= [4,5,6]\n",
    "added_numbers= list(map(lambda x,y: x+y, numbers1, numbers2))\n",
    "print(added_numbers)  # Output: [5, 7, 9]"
   ]
  },
  {
   "cell_type": "code",
   "execution_count": 53,
   "id": "d7a0728f",
   "metadata": {},
   "outputs": [
    {
     "name": "stdout",
     "output_type": "stream",
     "text": [
      "[1, 2, 3, 4, 5]\n"
     ]
    }
   ],
   "source": [
    "### map() to convert strings to integers\n",
    "# use map to convert strings to integers\n",
    "str_numbers=['1','2','3','4','5']\n",
    "int_numbers=list(map(int, str_numbers))\n",
    "print(int_numbers)\n"
   ]
  },
  {
   "cell_type": "code",
   "execution_count": 54,
   "id": "e0b681ea",
   "metadata": {},
   "outputs": [
    {
     "name": "stdout",
     "output_type": "stream",
     "text": [
      "['HELLO', 'WORLD', 'PYTHON']\n"
     ]
    }
   ],
   "source": [
    "words=[\"hello\", \"world\", \"python\"]\n",
    "upper_words=list(map(str.upper, words))\n",
    "print(upper_words)  # Output: ['HELLO', 'WORLD', 'PYTHON"
   ]
  },
  {
   "cell_type": "code",
   "execution_count": 55,
   "id": "48f3740c",
   "metadata": {},
   "outputs": [
    {
     "data": {
      "text/plain": [
       "['Krish', 'Ajay', 'Ravi']"
      ]
     },
     "execution_count": 55,
     "metadata": {},
     "output_type": "execute_result"
    }
   ],
   "source": [
    "def get_name(person):\n",
    "    return person['name']\n",
    "people=[\n",
    "    {'name':'Krish', 'age': 32},\n",
    "    {'name': 'Ajay', 'age': 28},\n",
    "    {'name': 'Ravi', 'age': 25}\n",
    "]\n",
    "\n",
    "list(map(get_name, people))"
   ]
  },
  {
   "cell_type": "code",
   "execution_count": 5,
   "id": "fca2ef72",
   "metadata": {},
   "outputs": [],
   "source": [
    "import logging \n",
    "##configure the basic logging settings\n",
    "##logging.basicConfig(level=logging.DEBUG)\n",
    "\n",
    "# log messages with different severity levels\n"
   ]
  },
  {
   "cell_type": "markdown",
   "id": "3838c55d",
   "metadata": {},
   "source": [
    "#### Log Levels ####"
   ]
  },
  {
   "cell_type": "markdown",
   "id": "12962521",
   "metadata": {},
   "source": [
    "Python logging module has several log levels indicating the serverity of events. The default levels are:\n",
    "\n",
    "* DEBUG: Detailed information, typically of interest only when diagnosing problems.\n",
    "* INFO: Confirmation that things are working as expected.\n",
    "* WARNING: An indication that something unexpected happened or indicative of some problem in the future(e.g: 'disk space low'). The software is still working as expected.\n",
    "* ERROR: Due to a more serious problem, the software has not been able to perform some functions.\n",
    "* CRITICAL: A very serious error, indicating that the program itself may be unable to continue running."
   ]
  },
  {
   "cell_type": "code",
   "execution_count": 7,
   "id": "780766cc",
   "metadata": {},
   "outputs": [
    {
     "name": "stderr",
     "output_type": "stream",
     "text": [
      "DEBUG:root:This is a debug message\n",
      "INFO:root:This is an info message\n",
      "WARNING:root:This is a warning message\n",
      "ERROR:root:This is an error message\n",
      "CRITICAL:root:This is a critical message\n"
     ]
    }
   ],
   "source": [
    "## configure logging to write to a file\n",
    "logging.basicConfig(\n",
    "    filename='app.log',\n",
    "    filemode='w',  # 'w' for overwrite, 'a' for append\n",
    "    level=logging.DEBUG,\n",
    "    format='%(asctime)s - %(name)s-%(levelname)s-%(message)s',\n",
    "    datefmt='%Y-%m-%d %H:%M:%S',\n",
    ")\n",
    "logging.debug(\"This is a debug message\")\n",
    "logging.info(\"This is an info message\")\n",
    "logging.warning(\"This is a warning message\")\n",
    "logging.error(\"This is an error message\")\n",
    "logging.critical(\"This is a critical message\")"
   ]
  },
  {
   "cell_type": "code",
   "execution_count": 9,
   "id": "47b627f9",
   "metadata": {},
   "outputs": [],
   "source": [
    "## create a logger for module\n",
    "logger1 = logging.getLogger(\"module1\")\n",
    "logger1.setLevel(logging.DEBUG)\n",
    "\n",
    "# create a logger for another module\n",
    "logger2 = logging.getLogger(\"module2\")\n",
    "logger2.setLevel(logging.INFO)\n",
    "logging.basicConfig(\n",
    "    filename='app.log',\n",
    "    filemode='w',  # 'w' for overwrite, 'a' for append\n",
    "    level=logging.DEBUG,\n",
    "    format='%(asctime)s - %(name)s-%(levelname)s-%(message)s',\n",
    "    datefmt='%Y-%m-%d %H:%M:%S',\n",
    ")\n"
   ]
  },
  {
   "cell_type": "code",
   "execution_count": 11,
   "id": "5b484bca",
   "metadata": {},
   "outputs": [
    {
     "name": "stderr",
     "output_type": "stream",
     "text": [
      "DEBUG:module1:This is a debug message from module1\n",
      "INFO:module2:This is an info message from module2\n"
     ]
    }
   ],
   "source": [
    "## log messages with different severity levels\n",
    "logger1.debug(\"This is a debug message from module1\")\n",
    "logger2.info(\"This is an info message from module2\")"
   ]
  },
  {
   "cell_type": "markdown",
   "id": "3d6043c9",
   "metadata": {},
   "source": []
  },
  {
   "cell_type": "code",
   "execution_count": null,
   "id": "fe42710a",
   "metadata": {},
   "outputs": [],
   "source": []
  }
 ],
 "metadata": {
  "kernelspec": {
   "display_name": "Python 3",
   "language": "python",
   "name": "python3"
  },
  "language_info": {
   "codemirror_mode": {
    "name": "ipython",
    "version": 3
   },
   "file_extension": ".py",
   "mimetype": "text/x-python",
   "name": "python",
   "nbconvert_exporter": "python",
   "pygments_lexer": "ipython3",
   "version": "3.8.20"
  }
 },
 "nbformat": 4,
 "nbformat_minor": 5
}
